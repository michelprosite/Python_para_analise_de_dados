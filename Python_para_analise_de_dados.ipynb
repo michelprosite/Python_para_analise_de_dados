{
  "nbformat": 4,
  "nbformat_minor": 0,
  "metadata": {
    "colab": {
      "provenance": [],
      "toc_visible": true,
      "authorship_tag": "ABX9TyPrZciYrU6fkZ9iR1ReYxSc",
      "include_colab_link": true
    },
    "kernelspec": {
      "name": "python3",
      "display_name": "Python 3"
    },
    "language_info": {
      "name": "python"
    }
  },
  "cells": [
    {
      "cell_type": "markdown",
      "metadata": {
        "id": "view-in-github",
        "colab_type": "text"
      },
      "source": [
        "<a href=\"https://colab.research.google.com/github/michelprosite/Python_para_analise_de_dados/blob/main/Python_para_analise_de_dados.ipynb\" target=\"_parent\"><img src=\"https://colab.research.google.com/assets/colab-badge.svg\" alt=\"Open In Colab\"/></a>"
      ]
    },
    {
      "cell_type": "markdown",
      "source": [
        "# Python para Análise de Dados\n",
        "### Baseado no livro Python para Análise de Dado de Wes McKinney\n"
      ],
      "metadata": {
        "id": "0Eh_IfekQ3M5"
      }
    },
    {
      "cell_type": "code",
      "execution_count": null,
      "metadata": {
        "id": "kN1S3MvtPBdl"
      },
      "outputs": [],
      "source": []
    }
  ]
}